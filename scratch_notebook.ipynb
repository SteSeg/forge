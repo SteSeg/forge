{
 "cells": [
  {
   "cell_type": "code",
   "execution_count": 1,
   "metadata": {},
   "outputs": [],
   "source": [
    "from ase.io import read, write\n",
    "from mace.calculators.mace import MACECalculator\n"
   ]
  },
  {
   "cell_type": "code",
   "execution_count": 2,
   "metadata": {},
   "outputs": [],
   "source": [
    "data = read('./forge/tests/resources/structures/gen_5_2024-11-28_test.xyz', index=':')"
   ]
  },
  {
   "cell_type": "code",
   "execution_count": 4,
   "metadata": {},
   "outputs": [
    {
     "name": "stdout",
     "output_type": "stream",
     "text": [
      "{'structure_name': 'neb_30_structure_9001_step_0', 'REF_energy': -1107.27788642, 'REF_stress': array([ 0.00420268,  0.00039253, -0.00026311,  0.00039253,  0.00412004,\n",
      "        0.00020602, -0.00026311,  0.00020602,  0.00508813])}\n"
     ]
    }
   ],
   "source": [
    "print(data[0].info)"
   ]
  }
 ],
 "metadata": {
  "kernelspec": {
   "display_name": "mace",
   "language": "python",
   "name": "python3"
  },
  "language_info": {
   "codemirror_mode": {
    "name": "ipython",
    "version": 3
   },
   "file_extension": ".py",
   "mimetype": "text/x-python",
   "name": "python",
   "nbconvert_exporter": "python",
   "pygments_lexer": "ipython3",
   "version": "3.11.10"
  }
 },
 "nbformat": 4,
 "nbformat_minor": 2
}
