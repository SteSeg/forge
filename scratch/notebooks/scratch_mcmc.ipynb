{
 "cells": [
  {
   "cell_type": "markdown",
   "metadata": {},
   "source": [
    "# Running MCMC on made composit"
   ]
  },
  {
   "cell_type": "code",
   "execution_count": null,
   "metadata": {},
   "outputs": [
    {
     "name": "stderr",
     "output_type": "stream",
     "text": [
      "/home/myless/.miniforge3/envs/forge/lib/python3.11/site-packages/e3nn/o3/_wigner.py:10: FutureWarning:\n",
      "\n",
      "You are using `torch.load` with `weights_only=False` (the current default value), which uses the default pickle module implicitly. It is possible to construct malicious pickle data which will execute arbitrary code during unpickling (See https://github.com/pytorch/pytorch/blob/main/SECURITY.md#untrusted-models for more details). In a future release, the default value for `weights_only` will be flipped to `True`. This limits the functions that could be executed during unpickling. Arbitrary objects will no longer be allowed to be loaded via this mode unless they are explicitly allowlisted by the user via `torch.serialization.add_safe_globals`. We recommend you start setting `weights_only=True` for any use case where you don't have full control of the loaded file. Please open an issue on GitHub for any issues related to this experimental feature.\n",
      "\n"
     ]
    }
   ],
   "source": [
    "import numpy as np\n",
    "\n",
    "from ase.build import bulk\n",
    "from forge.core.database import DatabaseManager\n",
    "from forge.workflows.mcmc import MonteCarloAlloySampler\n",
    "from mace.calculators.mace import MACECalculator\n",
    "\n",
    "# 1) Fetch or build your initial supercell\n",
    "#atoms = bulk(\"V\", \"bcc\", a=3.03) * (4, 4, 4)  # 128 atoms if 2 atoms/cell * 4^3\n",
    "db_config = {\n",
    "    'database': {\n",
    "        'dbname': 'test_database',\n",
    "        'user': 'myless',\n",
    "        'password': 'vcrtiwzr',\n",
    "        'host': 'database-vcrtiwzr.cfg4i4qmuc4m.us-east-1.rds.amazonaws.com',\n",
    "        'port': 5432\n",
    "    }\n",
    "}\n",
    "db_manager = DatabaseManager(config_dict=db_config)\n",
    "# Optionally randomize the composition a bit, or retrieve from your DB\n",
    "# [Your code here to randomize or fetch structure]\n",
    "\n",
    "# 1.5) Get a structure from the database without a calculation attached to it \n",
    "structures = db_manager.find_structures_without_calculation(model_type=\"vasp-static\")\n"
   ]
  },
  {
   "cell_type": "code",
   "execution_count": null,
   "metadata": {},
   "outputs": [],
   "source": [
    "from forge.analysis.composition import CompositionAnalyzer\n",
    "# Example composition\n",
    "composition = {\n",
    "    'V': 0.91515,\n",
    "    'W': 0.021,\n",
    "    'Cr': 0.02385,\n",
    "    'Ti': 0.03,\n",
    "    'Zr': 0.01\n",
    "}\n",
    "\n",
    "analyzer = CompositionAnalyzer()\n",
    "atoms = analyzer.create_random_alloy(\n",
    "    composition=composition,\n",
    "    crystal_type='bcc',\n",
    "    dimensions=[4, 4, 4],\n",
    "    lattice_constant=3.01,\n",
    "    balance_element='V',\n",
    "    cubic=True\n",
    ")"
   ]
  },
  {
   "cell_type": "code",
   "execution_count": null,
   "metadata": {},
   "outputs": [],
   "source": [
    "diverse_atoms = []\n",
    "# Using the Diverse Compositions from previous section, let's do MCMC on them\n",
    "for comp in diverse_compositions:\n",
    "    atoms = analyzer.create_random_alloy(\n",
    "        composition=comp,\n",
    "        crystal_type='bcc',\n",
    "        dimensions=[4, 4, 4],\n",
    "        lattice_constant=3.01,\n",
    "        balance_element='V',\n",
    "        cubic=True\n",
    "    )\n",
    "    diverse_atoms.append(atoms)"
   ]
  },
  {
   "cell_type": "markdown",
   "metadata": {},
   "source": [
    "## Run the MCMC "
   ]
  },
  {
   "cell_type": "code",
   "execution_count": null,
   "metadata": {},
   "outputs": [
    {
     "name": "stderr",
     "output_type": "stream",
     "text": [
      "/home/myless/.miniforge3/envs/forge/lib/python3.11/site-packages/mace/calculators/mace.py:135: FutureWarning:\n",
      "\n",
      "You are using `torch.load` with `weights_only=False` (the current default value), which uses the default pickle module implicitly. It is possible to construct malicious pickle data which will execute arbitrary code during unpickling (See https://github.com/pytorch/pytorch/blob/main/SECURITY.md#untrusted-models for more details). In a future release, the default value for `weights_only` will be flipped to `True`. This limits the functions that could be executed during unpickling. Arbitrary objects will no longer be allowed to be loaded via this mode unless they are explicitly allowlisted by the user via `torch.serialization.add_safe_globals`. We recommend you start setting `weights_only=True` for any use case where you don't have full control of the loaded file. Please open an issue on GitHub for any issues related to this experimental feature.\n",
      "\n",
      "/home/myless/.miniforge3/envs/forge/lib/python3.11/site-packages/mace/modules/models.py:69: UserWarning:\n",
      "\n",
      "To copy construct from a tensor, it is recommended to use sourceTensor.clone().detach() or sourceTensor.clone().detach().requires_grad_(True), rather than torch.tensor(sourceTensor).\n",
      "\n"
     ]
    },
    {
     "name": "stdout",
     "output_type": "stream",
     "text": [
      "Converting models to CuEq for acceleration\n",
      "Starting MC simulation for Cr2Ti2V120W2Zr2\n",
      "MC simulation complete.\n",
      "Starting MC simulation for Cr6Ti11V102W6Zr3\n",
      "MC simulation complete.\n",
      "Starting MC simulation for Cr4Ti6V113W3Zr2\n",
      "MC simulation complete.\n",
      "Starting MC simulation for Cr3Ti5V115W3Zr2\n",
      "MC simulation complete.\n",
      "Starting MC simulation for Cr5Ti9V107W4Zr3\n",
      "MC simulation complete.\n",
      "Starting MC simulation for Cr3Ti3V117W2Zr3\n",
      "MC simulation complete.\n",
      "Starting MC simulation for Cr2Ti4V118W2Zr2\n",
      "MC simulation complete.\n",
      "Starting MC simulation for Cr4Ti7V111W4Zr2\n",
      "MC simulation complete.\n",
      "Starting MC simulation for Cr3Ti6V114W3Zr2\n",
      "MC simulation complete.\n"
     ]
    }
   ],
   "source": [
    "import forge\n",
    "from pathlib import Path\n",
    "forge_root = Path(forge.__file__).parent\n",
    "\n",
    "model_path = forge_root / \"tests\" / \"resources\" / \"potentials\" / \"mace\" / \"gen_5_model_0-11-28_stagetwo.model\"\n",
    "# 2) Initialize your ML potential\n",
    "calc = MACECalculator(model_paths=[model_path],\n",
    "                      device=\"cuda\",\n",
    "                      default_dtype=\"float32\",\n",
    "                      enable_cueq=True)\n",
    "\n",
    "fin_diverse_atoms = []\n",
    "# 3) Setup Monte Carlo sampler\n",
    "temperature = 1200.0\n",
    "steps_per_atom = 100  # e.g., 30 swaps per atom\n",
    "total_swaps = steps_per_atom * len(atoms) \n",
    "\n",
    "for atoms in diverse_atoms:\n",
    "    mc_sampler = MonteCarloAlloySampler(\n",
    "        atoms=atoms,\n",
    "        calculator=calc,\n",
    "        temperature=temperature,\n",
    "        steps=total_swaps,\n",
    "    )\n",
    "\n",
    "    # 4) Run MC simulation\n",
    "    print(f\"Starting MC simulation for {atoms.get_chemical_formula()}\")\n",
    "    final_atoms = mc_sampler.run_mcmc()\n",
    "    print(\"MC simulation complete.\")\n",
    "    fin_diverse_atoms.append(final_atoms)"
   ]
  },
  {
   "cell_type": "code",
   "execution_count": null,
   "metadata": {},
   "outputs": [
    {
     "name": "stdout",
     "output_type": "stream",
     "text": [
      "Atoms(symbols='Cr4Ti4V115W3Zr2', pbc=True, cell=[12.04, 12.04, 12.04])\n"
     ]
    }
   ],
   "source": [
    "print(atoms)"
   ]
  },
  {
   "cell_type": "markdown",
   "metadata": {},
   "source": [
    "## Output them to an xyz file or to a folder with xyz fles "
   ]
  },
  {
   "cell_type": "code",
   "execution_count": null,
   "metadata": {},
   "outputs": [],
   "source": [
    "from ase.io import write\n",
    "import os\n",
    "output_dir = './scratch/data/final_diverse_atoms_t2'\n",
    "if not os.path.exists(output_dir):\n",
    "    os.makedirs(output_dir)\n",
    "for atoms in fin_diverse_atoms:\n",
    "    write(os.path.join(output_dir, f'{atoms.get_chemical_formula()}.xyz'), atoms)"
   ]
  },
  {
   "cell_type": "code",
   "execution_count": null,
   "metadata": {},
   "outputs": [],
   "source": [
    "from ase.io import write\n",
    "\n",
    "# write before and after atoms to xyz\n",
    "write('./scratch/data/before_atoms.xyz', atoms)\n",
    "write('./scratch/data/after_atoms.xyz', final_atoms)\n"
   ]
  },
  {
   "cell_type": "code",
   "execution_count": null,
   "metadata": {},
   "outputs": [
    {
     "name": "stdout",
     "output_type": "stream",
     "text": [
      "Atoms(symbols='Cr4Ti4V115W3Zr2', pbc=True, cell=[12.04, 12.04, 12.04])\n",
      "Atoms(symbols='Cr4Ti4V115W3Zr2', pbc=True, cell=[12.04, 12.04, 12.04], calculator=MACECalculator(...))\n"
     ]
    }
   ],
   "source": [
    "print(atoms)\n",
    "print(final_atoms)"
   ]
  },
  {
   "cell_type": "code",
   "execution_count": null,
   "metadata": {},
   "outputs": [],
   "source": [
    "# save the final divser atoms to xyz\n",
    "write('./scratch/data/final_diverse_atoms.xyz', fin_diverse_atoms)\n"
   ]
  },
  {
   "cell_type": "markdown",
   "metadata": {},
   "source": [
    "## Optionally add them to the database"
   ]
  },
  {
   "cell_type": "code",
   "execution_count": null,
   "metadata": {},
   "outputs": [],
   "source": [
    "# 5) Optionally add final_atoms to your DB\n",
    "db_config = {\n",
    "    'database': {\n",
    "        'dbname': 'test_database',\n",
    "        'user': 'myless',\n",
    "        'password': '***',\n",
    "        'host': 'database-vcrtiwzr.cfg4i4qmuc4m.us-east-1.rds.amazonaws.com',\n",
    "        'port': 5432\n",
    "    }\n",
    "}\n",
    "db_manager = DatabaseManager(config_dict=db_config)\n",
    "structure_id = db_manager.add_structure(final_atoms, source_type=\"MC_Sampler\")\n",
    "print(f\"Added MC-refined structure ID: {structure_id}\")\n"
   ]
  },
  {
   "cell_type": "markdown",
   "metadata": {},
   "source": [
    "# Visualizing MCMC Results"
   ]
  },
  {
   "cell_type": "code",
   "execution_count": null,
   "metadata": {},
   "outputs": [],
   "source": [
    "from forge.analysis.composition import CompositionAnalyzer\n",
    "from forge.workflows.mcmc import MonteCarloAlloySampler\n",
    "from ase import Atoms\n",
    "from forge.analysis.wc_sro import WarrenCowleyCalculator\n",
    "from mace.calculators.mace import MACECalculator\n",
    "import forge\n",
    "import os\n",
    "from pathlib import Path\n",
    "\n",
    "forge_root = Path(forge.__file__).parent\n",
    "# load the calculator\n",
    "model_path = forge_root / \"tests\" / \"resources\" / \"potentials\" / \"mace\" / \"gen_5_model_0-11-28_stagetwo.model\"\n",
    "calc = MACECalculator(model_paths=[model_path],\n",
    "                      device=\"cuda\",\n",
    "                      default_dtype=\"float32\",\n",
    "                      enable_cueq=True)\n",
    "\n",
    "# set the save directory\n",
    "save_dir_path = './scratch/data/mcmc_results_big'\n",
    "if not os.path.exists(save_dir_path):\n",
    "    os.makedirs(save_dir_path)\n",
    "\n",
    "# Example composition\n",
    "composition = {\n",
    "    'V': 0.91515,\n",
    "    'W': 0.021,\n",
    "    'Cr': 0.02385,\n",
    "    'Ti': 0.03,\n",
    "    'Zr': 0.01\n",
    "}\n",
    "\n",
    "analyzer = CompositionAnalyzer()\n",
    "atoms = analyzer.create_random_alloy(\n",
    "    composition=composition,\n",
    "    crystal_type='bcc',\n",
    "    dimensions=[24, 24, 24],\n",
    "    lattice_constant=3.01,\n",
    "    balance_element='V',\n",
    "    cubic=True\n",
    ")\n",
    "\n",
    "# Create tracker settings\n",
    "tracker_settings = {\n",
    "    \"energy_freq\": 100,          # Record energy every 10 steps\n",
    "    \"wc_freq\": 100,             # Record WC params every 50 steps\n",
    "    \"lattice_constant\": 3.03,   # For default BCC shells\n",
    "}\n",
    "\n",
    "# Create and run MCMC\n",
    "sampler = MonteCarloAlloySampler(\n",
    "    atoms=atoms,\n",
    "    calculator=calc,\n",
    "    temperature=1000.0,\n",
    "    steps=1000,\n",
    "    tracker_settings=tracker_settings\n",
    ")\n",
    "\n",
    "final_atoms = sampler.run_mcmc()\n",
    "\n",
    "# Plot and save results\n",
    "sampler.tracker.plot_results(save_dir=save_dir_path, colormap='tab20')"
   ]
  },
  {
   "cell_type": "code",
   "execution_count": null,
   "metadata": {},
   "outputs": [
    {
     "name": "stderr",
     "output_type": "stream",
     "text": [
      "/home/myless/.miniforge3/envs/forge/lib/python3.11/site-packages/mace/calculators/mace.py:135: FutureWarning: You are using `torch.load` with `weights_only=False` (the current default value), which uses the default pickle module implicitly. It is possible to construct malicious pickle data which will execute arbitrary code during unpickling (See https://github.com/pytorch/pytorch/blob/main/SECURITY.md#untrusted-models for more details). In a future release, the default value for `weights_only` will be flipped to `True`. This limits the functions that could be executed during unpickling. Arbitrary objects will no longer be allowed to be loaded via this mode unless they are explicitly allowlisted by the user via `torch.serialization.add_safe_globals`. We recommend you start setting `weights_only=True` for any use case where you don't have full control of the loaded file. Please open an issue on GitHub for any issues related to this experimental feature.\n",
      "  torch.load(f=model_path, map_location=device)\n",
      "/home/myless/.miniforge3/envs/forge/lib/python3.11/site-packages/mace/modules/models.py:69: UserWarning: To copy construct from a tensor, it is recommended to use sourceTensor.clone().detach() or sourceTensor.clone().detach().requires_grad_(True), rather than torch.tensor(sourceTensor).\n",
      "  \"atomic_numbers\", torch.tensor(atomic_numbers, dtype=torch.int64)\n"
     ]
    },
    {
     "name": "stdout",
     "output_type": "stream",
     "text": [
      "Converting models to CuEq for acceleration\n"
     ]
    },
    {
     "data": {
      "text/plain": [
       "-6192.2119140625"
      ]
     },
     "metadata": {},
     "output_type": "display_data"
    }
   ],
   "source": [
    "cu_calc = MACECalculator(model_paths=[model_path],\n",
    "                      device=\"cuda\",\n",
    "                      default_dtype=\"float32\",\n",
    "                      enable_cueq=True)\n",
    "\n",
    "test_atoms = atoms.copy()\n",
    "test_atoms.calc = cu_calc\n",
    "test_atoms.get_potential_energy()\n"
   ]
  }
 ],
 "metadata": {
  "language_info": {
   "name": "python"
  }
 },
 "nbformat": 4,
 "nbformat_minor": 2
}
