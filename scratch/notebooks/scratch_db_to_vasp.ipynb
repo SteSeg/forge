{
 "cells": [
  {
   "cell_type": "markdown",
   "metadata": {},
   "source": [
    "# Working with DB and VASP"
   ]
  },
  {
   "cell_type": "code",
   "execution_count": null,
   "metadata": {},
   "outputs": [],
   "source": [
    "from ase.io import read\n",
    "from forge.workflows.db_to_vasp import prepare_vasp_job_from_ase\n",
    "import os\n",
    "\n",
    "if 'fin_diverse_atoms' not in locals():\n",
    "    # read each of the xyz files in the input_dir\n",
    "    input_dir = './scratch/data/final_diverse_atoms_t2'\n",
    "    fin_diverse_atoms = [read(os.path.join(input_dir, f'{atoms}')) for atoms in os.listdir(input_dir)]"
   ]
  },
  {
   "cell_type": "code",
   "execution_count": null,
   "metadata": {},
   "outputs": [
    {
     "name": "stdout",
     "output_type": "stream",
     "text": [
      "[Atoms(symbols='Cr2Ti2V120W2Zr2', pbc=True, cell=[12.04, 12.04, 12.04], calculator=MACECalculator(...)), Atoms(symbols='Cr6Ti11V102W6Zr3', pbc=True, cell=[12.04, 12.04, 12.04], calculator=MACECalculator(...)), Atoms(symbols='Cr4Ti6V113W3Zr2', pbc=True, cell=[12.04, 12.04, 12.04], calculator=MACECalculator(...)), Atoms(symbols='Cr3Ti5V115W3Zr2', pbc=True, cell=[12.04, 12.04, 12.04], calculator=MACECalculator(...)), Atoms(symbols='Cr5Ti9V107W4Zr3', pbc=True, cell=[12.04, 12.04, 12.04], calculator=MACECalculator(...)), Atoms(symbols='Cr3Ti3V117W2Zr3', pbc=True, cell=[12.04, 12.04, 12.04], calculator=MACECalculator(...)), Atoms(symbols='Cr2Ti4V118W2Zr2', pbc=True, cell=[12.04, 12.04, 12.04], calculator=MACECalculator(...)), Atoms(symbols='Cr4Ti7V111W4Zr2', pbc=True, cell=[12.04, 12.04, 12.04], calculator=MACECalculator(...)), Atoms(symbols='Cr3Ti6V114W3Zr2', pbc=True, cell=[12.04, 12.04, 12.04], calculator=MACECalculator(...))]\n"
     ]
    }
   ],
   "source": [
    "print(fin_diverse_atoms)\n",
    "\n",
    "# Set VASP_PP_PATH\n",
    "os.environ[\"VASP_PP_PATH\"] = \"/home/myless/Packages/VASP/POTCAR_64_PBE/\""
   ]
  },
  {
   "cell_type": "code",
   "execution_count": null,
   "metadata": {},
   "outputs": [
    {
     "name": "stdout",
     "output_type": "stream",
     "text": [
      "[INFO] Created VASP job in ./scratch/data/vasp_jobs-neb-test/perf_t2/Cr2Ti2V120W2Zr2 using HPC=Perlmutter-CPU, VASP=relaxation\n",
      "[INFO] Created VASP job in ./scratch/data/vasp_jobs-neb-test/perf_t2/Cr6Ti11V102W6Zr3 using HPC=Perlmutter-CPU, VASP=relaxation\n",
      "[INFO] Created VASP job in ./scratch/data/vasp_jobs-neb-test/perf_t2/Cr4Ti6V113W3Zr2 using HPC=Perlmutter-CPU, VASP=relaxation\n",
      "[INFO] Created VASP job in ./scratch/data/vasp_jobs-neb-test/perf_t2/Cr3Ti5V115W3Zr2 using HPC=Perlmutter-CPU, VASP=relaxation\n",
      "[INFO] Created VASP job in ./scratch/data/vasp_jobs-neb-test/perf_t2/Cr5Ti9V107W4Zr3 using HPC=Perlmutter-CPU, VASP=relaxation\n",
      "[INFO] Created VASP job in ./scratch/data/vasp_jobs-neb-test/perf_t2/Cr3Ti3V117W2Zr3 using HPC=Perlmutter-CPU, VASP=relaxation\n",
      "[INFO] Created VASP job in ./scratch/data/vasp_jobs-neb-test/perf_t2/Cr2Ti4V118W2Zr2 using HPC=Perlmutter-CPU, VASP=relaxation\n",
      "[INFO] Created VASP job in ./scratch/data/vasp_jobs-neb-test/perf_t2/Cr4Ti7V111W4Zr2 using HPC=Perlmutter-CPU, VASP=relaxation\n",
      "[INFO] Created VASP job in ./scratch/data/vasp_jobs-neb-test/perf_t2/Cr3Ti6V114W3Zr2 using HPC=Perlmutter-CPU, VASP=relaxation\n"
     ]
    }
   ],
   "source": [
    "# using the final_diverse_atoms, let's make VASP relaxation jobs for each of them\n",
    "base_output_dir = './scratch/data/vasp_jobs-neb-test/perf_t2'\n",
    "if not os.path.exists(base_output_dir):\n",
    "    os.makedirs(base_output_dir)\n",
    "\n",
    "for atoms in fin_diverse_atoms:\n",
    "    output_dir = os.path.join(base_output_dir, f'{atoms.get_chemical_formula()}')\n",
    "    if not os.path.exists(output_dir):\n",
    "        os.makedirs(output_dir)\n",
    "    prepare_vasp_job_from_ase(atoms, 'relaxation', 'Perlmutter-CPU', output_dir)"
   ]
  }
 ],
 "metadata": {
  "language_info": {
   "name": "python"
  }
 },
 "nbformat": 4,
 "nbformat_minor": 2
}
