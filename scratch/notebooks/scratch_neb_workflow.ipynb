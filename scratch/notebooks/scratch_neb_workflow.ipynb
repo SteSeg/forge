{
 "cells": [
  {
   "cell_type": "code",
   "execution_count": 1,
   "metadata": {},
   "outputs": [
    {
     "name": "stdout",
     "output_type": "stream",
     "text": [
      "UMAP not installed. Please install umap-learn to use it, using t-SNE instead\n"
     ]
    },
    {
     "name": "stderr",
     "output_type": "stream",
     "text": [
      "/home/myless/.miniforge3/envs/forge/lib/python3.11/site-packages/e3nn/o3/_wigner.py:10: FutureWarning: You are using `torch.load` with `weights_only=False` (the current default value), which uses the default pickle module implicitly. It is possible to construct malicious pickle data which will execute arbitrary code during unpickling (See https://github.com/pytorch/pytorch/blob/main/SECURITY.md#untrusted-models for more details). In a future release, the default value for `weights_only` will be flipped to `True`. This limits the functions that could be executed during unpickling. Arbitrary objects will no longer be allowed to be loaded via this mode unless they are explicitly allowlisted by the user via `torch.serialization.add_safe_globals`. We recommend you start setting `weights_only=True` for any use case where you don't have full control of the loaded file. Please open an issue on GitHub for any issues related to this experimental feature.\n",
      "  _Jd, _W3j_flat, _W3j_indices = torch.load(os.path.join(os.path.dirname(__file__), 'constants.pt'))\n"
     ]
    }
   ],
   "source": [
    "import numpy as np \n",
    "\n",
    "from ase.build import bulk \n",
    "from forge.workflows.mcmc import MonteCarloAlloySampler\n",
    "from mace.calculators.mace import MACECalculator \n"
   ]
  },
  {
   "cell_type": "code",
   "execution_count": 6,
   "metadata": {},
   "outputs": [
    {
     "name": "stdout",
     "output_type": "stream",
     "text": [
      "{'V': 0.8773, 'Cr': 0.03, 'Ti': 0.0401, 'W': 0.0501, 'Zr': 0.0025}\n"
     ]
    }
   ],
   "source": [
    "from forge.analysis.composition import CompositionAnalyzer\n",
    "from math import ceil, floor\n",
    "\n",
    "num_atoms = 2*13**3\n",
    "\n",
    "x_zr = round(ceil(0.0025 * num_atoms)/num_atoms, 4)\n",
    "x_cr = round(ceil(0.03 * num_atoms)/num_atoms, 4)\n",
    "x_ti = round(ceil(0.04 * num_atoms)/num_atoms, 4)\n",
    "x_w = round(ceil(0.05 * num_atoms)/num_atoms, 4)\n",
    "x_v = round(1 - x_zr - x_cr - x_ti - x_w, 4)\n",
    "\n",
    "# if sum of composition is not 1, adjust x_v\n",
    "if sum(composition.values()) != 1:\n",
    "    x_v = 1 - sum(composition.values())\n",
    "\n",
    "composition = {\n",
    "    'V' : x_v,\n",
    "    'Cr' : x_cr,\n",
    "    'Ti' : x_ti,\n",
    "    'W' : x_w,\n",
    "    'Zr' : x_zr\n",
    "}\n",
    "\n",
    "print(composition)"
   ]
  },
  {
   "cell_type": "code",
   "execution_count": 8,
   "metadata": {},
   "outputs": [
    {
     "name": "stdout",
     "output_type": "stream",
     "text": [
      "Atoms(symbols='Cr132Ti177V3853W221Zr11', pbc=True, cell=[39.129999999999995, 39.129999999999995, 39.129999999999995])\n"
     ]
    }
   ],
   "source": [
    "analyzer = CompositionAnalyzer()\n",
    "atoms = analyzer.create_random_alloy(composition = composition, \n",
    "                                         crystal_type = 'bcc', \n",
    "                                         dimensions=[13,13,13], \n",
    "                                         lattice_constant = 3.01,\n",
    "                                         balance_element = 'V', \n",
    "                                         cubic=True)\n",
    "\n",
    "print(atoms)"
   ]
  },
  {
   "cell_type": "code",
   "execution_count": 9,
   "metadata": {},
   "outputs": [
    {
     "name": "stderr",
     "output_type": "stream",
     "text": [
      "/home/myless/.miniforge3/envs/forge/lib/python3.11/site-packages/mace/calculators/mace.py:135: FutureWarning: You are using `torch.load` with `weights_only=False` (the current default value), which uses the default pickle module implicitly. It is possible to construct malicious pickle data which will execute arbitrary code during unpickling (See https://github.com/pytorch/pytorch/blob/main/SECURITY.md#untrusted-models for more details). In a future release, the default value for `weights_only` will be flipped to `True`. This limits the functions that could be executed during unpickling. Arbitrary objects will no longer be allowed to be loaded via this mode unless they are explicitly allowlisted by the user via `torch.serialization.add_safe_globals`. We recommend you start setting `weights_only=True` for any use case where you don't have full control of the loaded file. Please open an issue on GitHub for any issues related to this experimental feature.\n",
      "  torch.load(f=model_path, map_location=device)\n"
     ]
    },
    {
     "name": "stdout",
     "output_type": "stream",
     "text": [
      "Converting models to CuEq for acceleration\n"
     ]
    },
    {
     "name": "stderr",
     "output_type": "stream",
     "text": [
      "/home/myless/.miniforge3/envs/forge/lib/python3.11/site-packages/mace/modules/models.py:69: UserWarning: To copy construct from a tensor, it is recommended to use sourceTensor.clone().detach() or sourceTensor.clone().detach().requires_grad_(True), rather than torch.tensor(sourceTensor).\n",
      "  \"atomic_numbers\", torch.tensor(atomic_numbers, dtype=torch.int64)\n"
     ]
    },
    {
     "ename": "KeyboardInterrupt",
     "evalue": "",
     "output_type": "error",
     "traceback": [
      "\u001b[0;31m---------------------------------------------------------------------------\u001b[0m",
      "\u001b[0;31mKeyboardInterrupt\u001b[0m                         Traceback (most recent call last)",
      "Cell \u001b[0;32mIn[9], line 23\u001b[0m\n\u001b[1;32m     14\u001b[0m total_swaps \u001b[38;5;241m=\u001b[39m steps_per_atom \u001b[38;5;241m*\u001b[39m \u001b[38;5;28mlen\u001b[39m(atoms)\n\u001b[1;32m     16\u001b[0m mc_sampler \u001b[38;5;241m=\u001b[39m MonteCarloAlloySampler(\n\u001b[1;32m     17\u001b[0m     atoms\u001b[38;5;241m=\u001b[39matoms,\n\u001b[1;32m     18\u001b[0m     calculator\u001b[38;5;241m=\u001b[39mcalc,\n\u001b[1;32m     19\u001b[0m     temperature\u001b[38;5;241m=\u001b[39mtemperature,\n\u001b[1;32m     20\u001b[0m     steps\u001b[38;5;241m=\u001b[39mtotal_swaps,\n\u001b[1;32m     21\u001b[0m )\n\u001b[0;32m---> 23\u001b[0m final_atoms \u001b[38;5;241m=\u001b[39m \u001b[43mmc_sampler\u001b[49m\u001b[38;5;241;43m.\u001b[39;49m\u001b[43mrun_mcmc\u001b[49m\u001b[43m(\u001b[49m\u001b[43m)\u001b[49m\n",
      "File \u001b[0;32m~/Packages/forge/forge/workflows/mcmc.py:239\u001b[0m, in \u001b[0;36mMonteCarloAlloySampler.run_mcmc\u001b[0;34m(self)\u001b[0m\n\u001b[1;32m    236\u001b[0m \u001b[38;5;28mself\u001b[39m\u001b[38;5;241m.\u001b[39matoms[site2]\u001b[38;5;241m.\u001b[39msymbol \u001b[38;5;241m=\u001b[39m old_symbol_1\n\u001b[1;32m    238\u001b[0m \u001b[38;5;66;03m# 4. Compute the energy\u001b[39;00m\n\u001b[0;32m--> 239\u001b[0m trial_energy \u001b[38;5;241m=\u001b[39m \u001b[38;5;28;43mself\u001b[39;49m\u001b[38;5;241;43m.\u001b[39;49m\u001b[43matoms\u001b[49m\u001b[38;5;241;43m.\u001b[39;49m\u001b[43mget_potential_energy\u001b[49m\u001b[43m(\u001b[49m\u001b[43m)\u001b[49m\n\u001b[1;32m    240\u001b[0m delta_e \u001b[38;5;241m=\u001b[39m trial_energy \u001b[38;5;241m-\u001b[39m \u001b[38;5;28mself\u001b[39m\u001b[38;5;241m.\u001b[39mcurrent_energy\n\u001b[1;32m    242\u001b[0m accepted \u001b[38;5;241m=\u001b[39m \u001b[38;5;28;01mFalse\u001b[39;00m\n",
      "File \u001b[0;32m~/.miniforge3/envs/forge/lib/python3.11/site-packages/ase/atoms.py:755\u001b[0m, in \u001b[0;36mAtoms.get_potential_energy\u001b[0;34m(self, force_consistent, apply_constraint)\u001b[0m\n\u001b[1;32m    752\u001b[0m     energy \u001b[38;5;241m=\u001b[39m \u001b[38;5;28mself\u001b[39m\u001b[38;5;241m.\u001b[39m_calc\u001b[38;5;241m.\u001b[39mget_potential_energy(\n\u001b[1;32m    753\u001b[0m         \u001b[38;5;28mself\u001b[39m, force_consistent\u001b[38;5;241m=\u001b[39mforce_consistent)\n\u001b[1;32m    754\u001b[0m \u001b[38;5;28;01melse\u001b[39;00m:\n\u001b[0;32m--> 755\u001b[0m     energy \u001b[38;5;241m=\u001b[39m \u001b[38;5;28;43mself\u001b[39;49m\u001b[38;5;241;43m.\u001b[39;49m\u001b[43m_calc\u001b[49m\u001b[38;5;241;43m.\u001b[39;49m\u001b[43mget_potential_energy\u001b[49m\u001b[43m(\u001b[49m\u001b[38;5;28;43mself\u001b[39;49m\u001b[43m)\u001b[49m\n\u001b[1;32m    756\u001b[0m \u001b[38;5;28;01mif\u001b[39;00m apply_constraint:\n\u001b[1;32m    757\u001b[0m     \u001b[38;5;28;01mfor\u001b[39;00m constraint \u001b[38;5;129;01min\u001b[39;00m \u001b[38;5;28mself\u001b[39m\u001b[38;5;241m.\u001b[39mconstraints:\n",
      "File \u001b[0;32m~/.miniforge3/envs/forge/lib/python3.11/site-packages/ase/calculators/abc.py:24\u001b[0m, in \u001b[0;36mGetPropertiesMixin.get_potential_energy\u001b[0;34m(self, atoms, force_consistent)\u001b[0m\n\u001b[1;32m     22\u001b[0m \u001b[38;5;28;01melse\u001b[39;00m:\n\u001b[1;32m     23\u001b[0m     name \u001b[38;5;241m=\u001b[39m \u001b[38;5;124m'\u001b[39m\u001b[38;5;124menergy\u001b[39m\u001b[38;5;124m'\u001b[39m\n\u001b[0;32m---> 24\u001b[0m \u001b[38;5;28;01mreturn\u001b[39;00m \u001b[38;5;28;43mself\u001b[39;49m\u001b[38;5;241;43m.\u001b[39;49m\u001b[43mget_property\u001b[49m\u001b[43m(\u001b[49m\u001b[43mname\u001b[49m\u001b[43m,\u001b[49m\u001b[43m \u001b[49m\u001b[43matoms\u001b[49m\u001b[43m)\u001b[49m\n",
      "File \u001b[0;32m~/.miniforge3/envs/forge/lib/python3.11/site-packages/ase/calculators/calculator.py:538\u001b[0m, in \u001b[0;36mBaseCalculator.get_property\u001b[0;34m(self, name, atoms, allow_calculation)\u001b[0m\n\u001b[1;32m    535\u001b[0m     \u001b[38;5;28;01mif\u001b[39;00m \u001b[38;5;28mself\u001b[39m\u001b[38;5;241m.\u001b[39muse_cache:\n\u001b[1;32m    536\u001b[0m         \u001b[38;5;28mself\u001b[39m\u001b[38;5;241m.\u001b[39matoms \u001b[38;5;241m=\u001b[39m atoms\u001b[38;5;241m.\u001b[39mcopy()\n\u001b[0;32m--> 538\u001b[0m     \u001b[38;5;28;43mself\u001b[39;49m\u001b[38;5;241;43m.\u001b[39;49m\u001b[43mcalculate\u001b[49m\u001b[43m(\u001b[49m\u001b[43matoms\u001b[49m\u001b[43m,\u001b[49m\u001b[43m \u001b[49m\u001b[43m[\u001b[49m\u001b[43mname\u001b[49m\u001b[43m]\u001b[49m\u001b[43m,\u001b[49m\u001b[43m \u001b[49m\u001b[43msystem_changes\u001b[49m\u001b[43m)\u001b[49m\n\u001b[1;32m    540\u001b[0m \u001b[38;5;28;01mif\u001b[39;00m name \u001b[38;5;129;01mnot\u001b[39;00m \u001b[38;5;129;01min\u001b[39;00m \u001b[38;5;28mself\u001b[39m\u001b[38;5;241m.\u001b[39mresults:\n\u001b[1;32m    541\u001b[0m     \u001b[38;5;66;03m# For some reason the calculator was not able to do what we want,\u001b[39;00m\n\u001b[1;32m    542\u001b[0m     \u001b[38;5;66;03m# and that is OK.\u001b[39;00m\n\u001b[1;32m    543\u001b[0m     \u001b[38;5;28;01mraise\u001b[39;00m PropertyNotImplementedError(\n\u001b[1;32m    544\u001b[0m         \u001b[38;5;124m'\u001b[39m\u001b[38;5;132;01m{}\u001b[39;00m\u001b[38;5;124m not present in this \u001b[39m\u001b[38;5;124m'\u001b[39m \u001b[38;5;124m'\u001b[39m\u001b[38;5;124mcalculation\u001b[39m\u001b[38;5;124m'\u001b[39m\u001b[38;5;241m.\u001b[39mformat(name)\n\u001b[1;32m    545\u001b[0m     )\n",
      "File \u001b[0;32m~/.miniforge3/envs/forge/lib/python3.11/site-packages/mace/calculators/mace.py:282\u001b[0m, in \u001b[0;36mMACECalculator.calculate\u001b[0;34m(self, atoms, properties, system_changes)\u001b[0m\n\u001b[1;32m    279\u001b[0m \u001b[38;5;66;03m# call to base-class to set atoms attribute\u001b[39;00m\n\u001b[1;32m    280\u001b[0m Calculator\u001b[38;5;241m.\u001b[39mcalculate(\u001b[38;5;28mself\u001b[39m, atoms)\n\u001b[0;32m--> 282\u001b[0m batch_base \u001b[38;5;241m=\u001b[39m \u001b[38;5;28;43mself\u001b[39;49m\u001b[38;5;241;43m.\u001b[39;49m\u001b[43m_atoms_to_batch\u001b[49m\u001b[43m(\u001b[49m\u001b[43matoms\u001b[49m\u001b[43m)\u001b[49m\n\u001b[1;32m    284\u001b[0m \u001b[38;5;28;01mif\u001b[39;00m \u001b[38;5;28mself\u001b[39m\u001b[38;5;241m.\u001b[39mmodel_type \u001b[38;5;129;01min\u001b[39;00m [\u001b[38;5;124m\"\u001b[39m\u001b[38;5;124mMACE\u001b[39m\u001b[38;5;124m\"\u001b[39m, \u001b[38;5;124m\"\u001b[39m\u001b[38;5;124mEnergyDipoleMACE\u001b[39m\u001b[38;5;124m\"\u001b[39m]:\n\u001b[1;32m    285\u001b[0m     batch \u001b[38;5;241m=\u001b[39m \u001b[38;5;28mself\u001b[39m\u001b[38;5;241m.\u001b[39m_clone_batch(batch_base)\n",
      "File \u001b[0;32m~/.miniforge3/envs/forge/lib/python3.11/site-packages/mace/calculators/mace.py:252\u001b[0m, in \u001b[0;36mMACECalculator._atoms_to_batch\u001b[0;34m(self, atoms)\u001b[0m\n\u001b[1;32m    248\u001b[0m \u001b[38;5;28;01mdef\u001b[39;00m \u001b[38;5;21m_atoms_to_batch\u001b[39m(\u001b[38;5;28mself\u001b[39m, atoms):\n\u001b[1;32m    249\u001b[0m     config \u001b[38;5;241m=\u001b[39m data\u001b[38;5;241m.\u001b[39mconfig_from_atoms(atoms, charges_key\u001b[38;5;241m=\u001b[39m\u001b[38;5;28mself\u001b[39m\u001b[38;5;241m.\u001b[39mcharges_key)\n\u001b[1;32m    250\u001b[0m     data_loader \u001b[38;5;241m=\u001b[39m torch_geometric\u001b[38;5;241m.\u001b[39mdataloader\u001b[38;5;241m.\u001b[39mDataLoader(\n\u001b[1;32m    251\u001b[0m         dataset\u001b[38;5;241m=\u001b[39m[\n\u001b[0;32m--> 252\u001b[0m             \u001b[43mdata\u001b[49m\u001b[38;5;241;43m.\u001b[39;49m\u001b[43mAtomicData\u001b[49m\u001b[38;5;241;43m.\u001b[39;49m\u001b[43mfrom_config\u001b[49m\u001b[43m(\u001b[49m\n\u001b[1;32m    253\u001b[0m \u001b[43m                \u001b[49m\u001b[43mconfig\u001b[49m\u001b[43m,\u001b[49m\u001b[43m \u001b[49m\u001b[43mz_table\u001b[49m\u001b[38;5;241;43m=\u001b[39;49m\u001b[38;5;28;43mself\u001b[39;49m\u001b[38;5;241;43m.\u001b[39;49m\u001b[43mz_table\u001b[49m\u001b[43m,\u001b[49m\u001b[43m \u001b[49m\u001b[43mcutoff\u001b[49m\u001b[38;5;241;43m=\u001b[39;49m\u001b[38;5;28;43mself\u001b[39;49m\u001b[38;5;241;43m.\u001b[39;49m\u001b[43mr_max\u001b[49m\u001b[43m,\u001b[49m\u001b[43m \u001b[49m\u001b[43mheads\u001b[49m\u001b[38;5;241;43m=\u001b[39;49m\u001b[38;5;28;43mself\u001b[39;49m\u001b[38;5;241;43m.\u001b[39;49m\u001b[43mheads\u001b[49m\n\u001b[1;32m    254\u001b[0m \u001b[43m            \u001b[49m\u001b[43m)\u001b[49m\n\u001b[1;32m    255\u001b[0m         ],\n\u001b[1;32m    256\u001b[0m         batch_size\u001b[38;5;241m=\u001b[39m\u001b[38;5;241m1\u001b[39m,\n\u001b[1;32m    257\u001b[0m         shuffle\u001b[38;5;241m=\u001b[39m\u001b[38;5;28;01mFalse\u001b[39;00m,\n\u001b[1;32m    258\u001b[0m         drop_last\u001b[38;5;241m=\u001b[39m\u001b[38;5;28;01mFalse\u001b[39;00m,\n\u001b[1;32m    259\u001b[0m     )\n\u001b[1;32m    260\u001b[0m     batch \u001b[38;5;241m=\u001b[39m \u001b[38;5;28mnext\u001b[39m(\u001b[38;5;28miter\u001b[39m(data_loader))\u001b[38;5;241m.\u001b[39mto(\u001b[38;5;28mself\u001b[39m\u001b[38;5;241m.\u001b[39mdevice)\n\u001b[1;32m    261\u001b[0m     \u001b[38;5;28;01mreturn\u001b[39;00m batch\n",
      "File \u001b[0;32m~/.miniforge3/envs/forge/lib/python3.11/site-packages/mace/data/atomic_data.py:209\u001b[0m, in \u001b[0;36mAtomicData.from_config\u001b[0;34m(cls, config, z_table, cutoff, heads)\u001b[0m\n\u001b[1;32m    197\u001b[0m dipole \u001b[38;5;241m=\u001b[39m (\n\u001b[1;32m    198\u001b[0m     torch\u001b[38;5;241m.\u001b[39mtensor(config\u001b[38;5;241m.\u001b[39mdipole, dtype\u001b[38;5;241m=\u001b[39mtorch\u001b[38;5;241m.\u001b[39mget_default_dtype())\u001b[38;5;241m.\u001b[39munsqueeze(\u001b[38;5;241m0\u001b[39m)\n\u001b[1;32m    199\u001b[0m     \u001b[38;5;28;01mif\u001b[39;00m config\u001b[38;5;241m.\u001b[39mdipole \u001b[38;5;129;01mis\u001b[39;00m \u001b[38;5;129;01mnot\u001b[39;00m \u001b[38;5;28;01mNone\u001b[39;00m\n\u001b[1;32m    200\u001b[0m     \u001b[38;5;28;01melse\u001b[39;00m \u001b[38;5;28;01mNone\u001b[39;00m\n\u001b[1;32m    201\u001b[0m )\n\u001b[1;32m    202\u001b[0m charges \u001b[38;5;241m=\u001b[39m (\n\u001b[1;32m    203\u001b[0m     torch\u001b[38;5;241m.\u001b[39mtensor(config\u001b[38;5;241m.\u001b[39mcharges, dtype\u001b[38;5;241m=\u001b[39mtorch\u001b[38;5;241m.\u001b[39mget_default_dtype())\n\u001b[1;32m    204\u001b[0m     \u001b[38;5;28;01mif\u001b[39;00m config\u001b[38;5;241m.\u001b[39mcharges \u001b[38;5;129;01mis\u001b[39;00m \u001b[38;5;129;01mnot\u001b[39;00m \u001b[38;5;28;01mNone\u001b[39;00m\n\u001b[1;32m    205\u001b[0m     \u001b[38;5;28;01melse\u001b[39;00m \u001b[38;5;28;01mNone\u001b[39;00m\n\u001b[1;32m    206\u001b[0m )\n\u001b[1;32m    208\u001b[0m \u001b[38;5;28;01mreturn\u001b[39;00m \u001b[38;5;28mcls\u001b[39m(\n\u001b[0;32m--> 209\u001b[0m     edge_index\u001b[38;5;241m=\u001b[39m\u001b[43mtorch\u001b[49m\u001b[38;5;241;43m.\u001b[39;49m\u001b[43mtensor\u001b[49m\u001b[43m(\u001b[49m\u001b[43medge_index\u001b[49m\u001b[43m,\u001b[49m\u001b[43m \u001b[49m\u001b[43mdtype\u001b[49m\u001b[38;5;241;43m=\u001b[39;49m\u001b[43mtorch\u001b[49m\u001b[38;5;241;43m.\u001b[39;49m\u001b[43mlong\u001b[49m\u001b[43m)\u001b[49m,\n\u001b[1;32m    210\u001b[0m     positions\u001b[38;5;241m=\u001b[39mtorch\u001b[38;5;241m.\u001b[39mtensor(config\u001b[38;5;241m.\u001b[39mpositions, dtype\u001b[38;5;241m=\u001b[39mtorch\u001b[38;5;241m.\u001b[39mget_default_dtype()),\n\u001b[1;32m    211\u001b[0m     shifts\u001b[38;5;241m=\u001b[39mtorch\u001b[38;5;241m.\u001b[39mtensor(shifts, dtype\u001b[38;5;241m=\u001b[39mtorch\u001b[38;5;241m.\u001b[39mget_default_dtype()),\n\u001b[1;32m    212\u001b[0m     unit_shifts\u001b[38;5;241m=\u001b[39mtorch\u001b[38;5;241m.\u001b[39mtensor(unit_shifts, dtype\u001b[38;5;241m=\u001b[39mtorch\u001b[38;5;241m.\u001b[39mget_default_dtype()),\n\u001b[1;32m    213\u001b[0m     cell\u001b[38;5;241m=\u001b[39mcell,\n\u001b[1;32m    214\u001b[0m     node_attrs\u001b[38;5;241m=\u001b[39mone_hot,\n\u001b[1;32m    215\u001b[0m     weight\u001b[38;5;241m=\u001b[39mweight,\n\u001b[1;32m    216\u001b[0m     head\u001b[38;5;241m=\u001b[39mhead,\n\u001b[1;32m    217\u001b[0m     energy_weight\u001b[38;5;241m=\u001b[39menergy_weight,\n\u001b[1;32m    218\u001b[0m     forces_weight\u001b[38;5;241m=\u001b[39mforces_weight,\n\u001b[1;32m    219\u001b[0m     stress_weight\u001b[38;5;241m=\u001b[39mstress_weight,\n\u001b[1;32m    220\u001b[0m     virials_weight\u001b[38;5;241m=\u001b[39mvirials_weight,\n\u001b[1;32m    221\u001b[0m     forces\u001b[38;5;241m=\u001b[39mforces,\n\u001b[1;32m    222\u001b[0m     energy\u001b[38;5;241m=\u001b[39menergy,\n\u001b[1;32m    223\u001b[0m     stress\u001b[38;5;241m=\u001b[39mstress,\n\u001b[1;32m    224\u001b[0m     virials\u001b[38;5;241m=\u001b[39mvirials,\n\u001b[1;32m    225\u001b[0m     dipole\u001b[38;5;241m=\u001b[39mdipole,\n\u001b[1;32m    226\u001b[0m     charges\u001b[38;5;241m=\u001b[39mcharges,\n\u001b[1;32m    227\u001b[0m )\n",
      "\u001b[0;31mKeyboardInterrupt\u001b[0m: "
     ]
    }
   ],
   "source": [
    "import forge \n",
    "\n",
    "model_path = '../potentials/gen_6_model_0_L0_isolated-2026-01-16_stagetwo.model'\n",
    "\n",
    "calc = MACECalculator(model_paths=[model_path],\n",
    "                      device=\"cuda\",\n",
    "                      default_dtype=\"float32\",\n",
    "                      enable_cueq=True)\n",
    "\n",
    "atoms.calc = calc\n",
    "\n",
    "temperature = 600+273.15\n",
    "steps_per_atom = 100\n",
    "total_swaps = steps_per_atom * len(atoms)\n",
    "\n",
    "mc_sampler = MonteCarloAlloySampler(\n",
    "    atoms=atoms,\n",
    "    calculator=calc,\n",
    "    temperature=temperature,\n",
    "    steps=total_swaps,\n",
    ")\n",
    "\n",
    "final_atoms = mc_sampler.run_mcmc()"
   ]
  }
 ],
 "metadata": {
  "kernelspec": {
   "display_name": "forge",
   "language": "python",
   "name": "python3"
  },
  "language_info": {
   "codemirror_mode": {
    "name": "ipython",
    "version": 3
   },
   "file_extension": ".py",
   "mimetype": "text/x-python",
   "name": "python",
   "nbconvert_exporter": "python",
   "pygments_lexer": "ipython3",
   "version": "3.11.0"
  }
 },
 "nbformat": 4,
 "nbformat_minor": 2
}
